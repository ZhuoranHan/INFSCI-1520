{
 "cells": [
  {
   "cell_type": "code",
   "execution_count": 1,
   "id": "cf51d5ba",
   "metadata": {},
   "outputs": [],
   "source": [
    "%matplotlib inline\n",
    "import sys\n",
    "import json\n",
    "import random\n",
    "import pickle\n",
    "import datetime\n",
    "import numpy as np\n",
    "import pandas as pd\n",
    "from scipy import stats\n",
    "import statsmodels.api as sm\n",
    "from collections import Counter\n",
    "import matplotlib.pyplot as plt\n",
    "from scipy.optimize import curve_fit\n",
    "from scipy.special import factorial\n",
    "from scipy.stats import poisson\n",
    "import matplotlib.pyplot as plt\n",
    "from collections import defaultdict\n",
    "from nltk.tokenize import MWETokenizer\n",
    "\n",
    "def flushPrint(www):\n",
    "    sys.stdout.write('\\r')\n",
    "    sys.stdout.write('%s' % www)\n",
    "    sys.stdout.flush()\n",
    "    \n",
    "#data source: https://correlatesofwar.org/data-sets/national-material-capabilities/"
   ]
  },
  {
   "cell_type": "markdown",
   "id": "d70e61af",
   "metadata": {},
   "source": [
    "### Data Cleaning"
   ]
  },
  {
   "cell_type": "markdown",
   "id": "0c571b12",
   "metadata": {},
   "source": [
    "Load the data and inspect"
   ]
  },
  {
   "cell_type": "code",
   "execution_count": 2,
   "id": "8124bd5e",
   "metadata": {
    "scrolled": false
   },
   "outputs": [
    {
     "data": {
      "text/html": [
       "<div>\n",
       "<style scoped>\n",
       "    .dataframe tbody tr th:only-of-type {\n",
       "        vertical-align: middle;\n",
       "    }\n",
       "\n",
       "    .dataframe tbody tr th {\n",
       "        vertical-align: top;\n",
       "    }\n",
       "\n",
       "    .dataframe thead th {\n",
       "        text-align: right;\n",
       "    }\n",
       "</style>\n",
       "<table border=\"1\" class=\"dataframe\">\n",
       "  <thead>\n",
       "    <tr style=\"text-align: right;\">\n",
       "      <th></th>\n",
       "      <th>stateabb</th>\n",
       "      <th>ccode</th>\n",
       "      <th>year</th>\n",
       "      <th>milex</th>\n",
       "      <th>milper</th>\n",
       "      <th>irst</th>\n",
       "      <th>pec</th>\n",
       "      <th>tpop</th>\n",
       "      <th>upop</th>\n",
       "      <th>cinc</th>\n",
       "      <th>version</th>\n",
       "    </tr>\n",
       "  </thead>\n",
       "  <tbody>\n",
       "    <tr>\n",
       "      <th>15946</th>\n",
       "      <td>WSM</td>\n",
       "      <td>990</td>\n",
       "      <td>2012</td>\n",
       "      <td>0</td>\n",
       "      <td>0</td>\n",
       "      <td>0</td>\n",
       "      <td>36</td>\n",
       "      <td>189.0</td>\n",
       "      <td>0.0</td>\n",
       "      <td>0.000005</td>\n",
       "      <td>2021</td>\n",
       "    </tr>\n",
       "    <tr>\n",
       "      <th>15947</th>\n",
       "      <td>WSM</td>\n",
       "      <td>990</td>\n",
       "      <td>2013</td>\n",
       "      <td>0</td>\n",
       "      <td>0</td>\n",
       "      <td>0</td>\n",
       "      <td>36</td>\n",
       "      <td>191.0</td>\n",
       "      <td>0.0</td>\n",
       "      <td>0.000005</td>\n",
       "      <td>2021</td>\n",
       "    </tr>\n",
       "    <tr>\n",
       "      <th>15948</th>\n",
       "      <td>WSM</td>\n",
       "      <td>990</td>\n",
       "      <td>2014</td>\n",
       "      <td>-9</td>\n",
       "      <td>0</td>\n",
       "      <td>0</td>\n",
       "      <td>37</td>\n",
       "      <td>192.0</td>\n",
       "      <td>0.0</td>\n",
       "      <td>0.000006</td>\n",
       "      <td>2021</td>\n",
       "    </tr>\n",
       "    <tr>\n",
       "      <th>15949</th>\n",
       "      <td>WSM</td>\n",
       "      <td>990</td>\n",
       "      <td>2015</td>\n",
       "      <td>0</td>\n",
       "      <td>0</td>\n",
       "      <td>0</td>\n",
       "      <td>38</td>\n",
       "      <td>194.0</td>\n",
       "      <td>0.0</td>\n",
       "      <td>0.000005</td>\n",
       "      <td>2021</td>\n",
       "    </tr>\n",
       "    <tr>\n",
       "      <th>15950</th>\n",
       "      <td>WSM</td>\n",
       "      <td>990</td>\n",
       "      <td>2016</td>\n",
       "      <td>0</td>\n",
       "      <td>0</td>\n",
       "      <td>0</td>\n",
       "      <td>40</td>\n",
       "      <td>195.0</td>\n",
       "      <td>0.0</td>\n",
       "      <td>0.000005</td>\n",
       "      <td>2021</td>\n",
       "    </tr>\n",
       "  </tbody>\n",
       "</table>\n",
       "</div>"
      ],
      "text/plain": [
       "      stateabb  ccode  year  milex  milper  irst  pec   tpop  upop      cinc  \\\n",
       "15946      WSM    990  2012      0       0     0   36  189.0   0.0  0.000005   \n",
       "15947      WSM    990  2013      0       0     0   36  191.0   0.0  0.000005   \n",
       "15948      WSM    990  2014     -9       0     0   37  192.0   0.0  0.000006   \n",
       "15949      WSM    990  2015      0       0     0   38  194.0   0.0  0.000005   \n",
       "15950      WSM    990  2016      0       0     0   40  195.0   0.0  0.000005   \n",
       "\n",
       "       version  \n",
       "15946     2021  \n",
       "15947     2021  \n",
       "15948     2021  \n",
       "15949     2021  \n",
       "15950     2021  "
      ]
     },
     "execution_count": 2,
     "metadata": {},
     "output_type": "execute_result"
    }
   ],
   "source": [
    "data = pd.read_csv('NMC-60-abridged.csv')\n",
    "data.tail()"
   ]
  },
  {
   "cell_type": "code",
   "execution_count": 3,
   "id": "cfe457d9",
   "metadata": {
    "scrolled": true
   },
   "outputs": [
    {
     "data": {
      "text/plain": [
       "(15951, 11)"
      ]
     },
     "execution_count": 3,
     "metadata": {},
     "output_type": "execute_result"
    }
   ],
   "source": [
    "data.shape"
   ]
  },
  {
   "cell_type": "markdown",
   "id": "69ca57a1",
   "metadata": {},
   "source": [
    "Select the range of year and columns needed"
   ]
  },
  {
   "cell_type": "code",
   "execution_count": 4,
   "id": "0bb05f58",
   "metadata": {},
   "outputs": [],
   "source": [
    "data = data[['stateabb', 'year', 'cinc', 'ccode']]"
   ]
  },
  {
   "cell_type": "code",
   "execution_count": 5,
   "id": "a32604e5",
   "metadata": {},
   "outputs": [],
   "source": [
    "data = data[data['year'] >= 1990]"
   ]
  },
  {
   "cell_type": "code",
   "execution_count": 23,
   "id": "6254718a",
   "metadata": {},
   "outputs": [
    {
     "data": {
      "text/html": [
       "<div>\n",
       "<style scoped>\n",
       "    .dataframe tbody tr th:only-of-type {\n",
       "        vertical-align: middle;\n",
       "    }\n",
       "\n",
       "    .dataframe tbody tr th {\n",
       "        vertical-align: top;\n",
       "    }\n",
       "\n",
       "    .dataframe thead th {\n",
       "        text-align: right;\n",
       "    }\n",
       "</style>\n",
       "<table border=\"1\" class=\"dataframe\">\n",
       "  <thead>\n",
       "    <tr style=\"text-align: right;\">\n",
       "      <th></th>\n",
       "      <th>stateabb</th>\n",
       "      <th>year</th>\n",
       "      <th>cinc</th>\n",
       "      <th>ccode</th>\n",
       "    </tr>\n",
       "  </thead>\n",
       "  <tbody>\n",
       "    <tr>\n",
       "      <th>13764</th>\n",
       "      <td>CHN</td>\n",
       "      <td>2007</td>\n",
       "      <td>18.578517</td>\n",
       "      <td>710</td>\n",
       "    </tr>\n",
       "    <tr>\n",
       "      <th>191</th>\n",
       "      <td>USA</td>\n",
       "      <td>2007</td>\n",
       "      <td>14.972392</td>\n",
       "      <td>2</td>\n",
       "    </tr>\n",
       "    <tr>\n",
       "      <th>14305</th>\n",
       "      <td>IND</td>\n",
       "      <td>2007</td>\n",
       "      <td>7.705324</td>\n",
       "      <td>750</td>\n",
       "    </tr>\n",
       "    <tr>\n",
       "      <th>8134</th>\n",
       "      <td>RUS</td>\n",
       "      <td>2007</td>\n",
       "      <td>4.106925</td>\n",
       "      <td>365</td>\n",
       "    </tr>\n",
       "    <tr>\n",
       "      <th>14235</th>\n",
       "      <td>JPN</td>\n",
       "      <td>2007</td>\n",
       "      <td>3.996167</td>\n",
       "      <td>740</td>\n",
       "    </tr>\n",
       "    <tr>\n",
       "      <th>3040</th>\n",
       "      <td>BRA</td>\n",
       "      <td>2007</td>\n",
       "      <td>2.472574</td>\n",
       "      <td>140</td>\n",
       "    </tr>\n",
       "    <tr>\n",
       "      <th>14084</th>\n",
       "      <td>ROK</td>\n",
       "      <td>2007</td>\n",
       "      <td>2.306083</td>\n",
       "      <td>732</td>\n",
       "    </tr>\n",
       "    <tr>\n",
       "      <th>5755</th>\n",
       "      <td>GMY</td>\n",
       "      <td>2007</td>\n",
       "      <td>2.160828</td>\n",
       "      <td>255</td>\n",
       "    </tr>\n",
       "  </tbody>\n",
       "</table>\n",
       "</div>"
      ],
      "text/plain": [
       "      stateabb  year       cinc  ccode\n",
       "13764      CHN  2007  18.578517    710\n",
       "191        USA  2007  14.972392      2\n",
       "14305      IND  2007   7.705324    750\n",
       "8134       RUS  2007   4.106925    365\n",
       "14235      JPN  2007   3.996167    740\n",
       "3040       BRA  2007   2.472574    140\n",
       "14084      ROK  2007   2.306083    732\n",
       "5755       GMY  2007   2.160828    255"
      ]
     },
     "execution_count": 23,
     "metadata": {},
     "output_type": "execute_result"
    }
   ],
   "source": [
    "df = data[data['year'] == 2007]\n",
    "df.sort_values('cinc', ascending=False).head(8)"
   ]
  },
  {
   "cell_type": "code",
   "execution_count": 7,
   "id": "70aa2109",
   "metadata": {},
   "outputs": [],
   "source": [
    "codes = [710, 2, 750, 365, 740, 732, 140, 255]"
   ]
  },
  {
   "cell_type": "code",
   "execution_count": 8,
   "id": "ee062909",
   "metadata": {},
   "outputs": [],
   "source": [
    "data = data[data['ccode'].isin(codes)]"
   ]
  },
  {
   "cell_type": "markdown",
   "id": "c236c7ae",
   "metadata": {},
   "source": [
    "Convert CINC to percentage values"
   ]
  },
  {
   "cell_type": "code",
   "execution_count": 9,
   "id": "4e401576",
   "metadata": {},
   "outputs": [],
   "source": [
    "data['cinc'] = data['cinc'] * 100"
   ]
  },
  {
   "cell_type": "code",
   "execution_count": 10,
   "id": "92b82272",
   "metadata": {
    "scrolled": false
   },
   "outputs": [
    {
     "data": {
      "text/html": [
       "<div>\n",
       "<style scoped>\n",
       "    .dataframe tbody tr th:only-of-type {\n",
       "        vertical-align: middle;\n",
       "    }\n",
       "\n",
       "    .dataframe tbody tr th {\n",
       "        vertical-align: top;\n",
       "    }\n",
       "\n",
       "    .dataframe thead th {\n",
       "        text-align: right;\n",
       "    }\n",
       "</style>\n",
       "<table border=\"1\" class=\"dataframe\">\n",
       "  <thead>\n",
       "    <tr style=\"text-align: right;\">\n",
       "      <th></th>\n",
       "      <th>stateabb</th>\n",
       "      <th>year</th>\n",
       "      <th>cinc</th>\n",
       "      <th>ccode</th>\n",
       "    </tr>\n",
       "  </thead>\n",
       "  <tbody>\n",
       "    <tr>\n",
       "      <th>174</th>\n",
       "      <td>USA</td>\n",
       "      <td>1990</td>\n",
       "      <td>14.125326</td>\n",
       "      <td>2</td>\n",
       "    </tr>\n",
       "    <tr>\n",
       "      <th>175</th>\n",
       "      <td>USA</td>\n",
       "      <td>1991</td>\n",
       "      <td>13.713777</td>\n",
       "      <td>2</td>\n",
       "    </tr>\n",
       "    <tr>\n",
       "      <th>176</th>\n",
       "      <td>USA</td>\n",
       "      <td>1992</td>\n",
       "      <td>14.824486</td>\n",
       "      <td>2</td>\n",
       "    </tr>\n",
       "    <tr>\n",
       "      <th>177</th>\n",
       "      <td>USA</td>\n",
       "      <td>1993</td>\n",
       "      <td>15.345162</td>\n",
       "      <td>2</td>\n",
       "    </tr>\n",
       "    <tr>\n",
       "      <th>178</th>\n",
       "      <td>USA</td>\n",
       "      <td>1994</td>\n",
       "      <td>14.568017</td>\n",
       "      <td>2</td>\n",
       "    </tr>\n",
       "    <tr>\n",
       "      <th>179</th>\n",
       "      <td>USA</td>\n",
       "      <td>1995</td>\n",
       "      <td>14.037095</td>\n",
       "      <td>2</td>\n",
       "    </tr>\n",
       "    <tr>\n",
       "      <th>180</th>\n",
       "      <td>USA</td>\n",
       "      <td>1996</td>\n",
       "      <td>13.841243</td>\n",
       "      <td>2</td>\n",
       "    </tr>\n",
       "    <tr>\n",
       "      <th>181</th>\n",
       "      <td>USA</td>\n",
       "      <td>1997</td>\n",
       "      <td>13.955292</td>\n",
       "      <td>2</td>\n",
       "    </tr>\n",
       "    <tr>\n",
       "      <th>182</th>\n",
       "      <td>USA</td>\n",
       "      <td>1998</td>\n",
       "      <td>14.151686</td>\n",
       "      <td>2</td>\n",
       "    </tr>\n",
       "    <tr>\n",
       "      <th>183</th>\n",
       "      <td>USA</td>\n",
       "      <td>1999</td>\n",
       "      <td>14.250799</td>\n",
       "      <td>2</td>\n",
       "    </tr>\n",
       "  </tbody>\n",
       "</table>\n",
       "</div>"
      ],
      "text/plain": [
       "    stateabb  year       cinc  ccode\n",
       "174      USA  1990  14.125326      2\n",
       "175      USA  1991  13.713777      2\n",
       "176      USA  1992  14.824486      2\n",
       "177      USA  1993  15.345162      2\n",
       "178      USA  1994  14.568017      2\n",
       "179      USA  1995  14.037095      2\n",
       "180      USA  1996  13.841243      2\n",
       "181      USA  1997  13.955292      2\n",
       "182      USA  1998  14.151686      2\n",
       "183      USA  1999  14.250799      2"
      ]
     },
     "execution_count": 10,
     "metadata": {},
     "output_type": "execute_result"
    }
   ],
   "source": [
    "data.head(10)"
   ]
  },
  {
   "cell_type": "markdown",
   "id": "7df84e20",
   "metadata": {},
   "source": [
    "Convert the data frame into a dictionary to be plotted"
   ]
  },
  {
   "cell_type": "code",
   "execution_count": 11,
   "id": "a7a801d5",
   "metadata": {},
   "outputs": [],
   "source": [
    "result = data.groupby('stateabb').apply(lambda x: x.sort_values('year')['cinc'].tolist()).to_dict()"
   ]
  },
  {
   "cell_type": "code",
   "execution_count": 12,
   "id": "7543d409",
   "metadata": {
    "scrolled": true
   },
   "outputs": [
    {
     "data": {
      "text/plain": [
       "dict_keys(['BRA', 'CHN', 'GMY', 'IND', 'JPN', 'ROK', 'RUS', 'USA'])"
      ]
     },
     "execution_count": 12,
     "metadata": {},
     "output_type": "execute_result"
    }
   ],
   "source": [
    "result.keys()"
   ]
  },
  {
   "cell_type": "markdown",
   "id": "e58574ee",
   "metadata": {},
   "source": [
    "Order the countries in the dictionary from low CINC to high CINC for better graph formatting"
   ]
  },
  {
   "cell_type": "code",
   "execution_count": 13,
   "id": "d05368da",
   "metadata": {},
   "outputs": [
    {
     "name": "stdout",
     "output_type": "stream",
     "text": [
      "{'GMY': [2.9267116, 3.1236051000000002, 3.1539530000000005, 3.1412087, 3.0594533, 3.11909, 3.0039914000000003, 2.9110087, 2.9356653, 2.7760297, 2.6201505, 2.6277268, 2.5257370000000003, 2.4657244, 2.3875449, 2.3106351000000003, 2.2385990000000002, 2.1608283999999998, 2.0993518, 1.9252539, 1.9416943, 1.8717172, 1.7821850000000001, 1.7428881999999999, 1.6987702, 1.6500173, 1.6592626999999998], 'BRA': [2.3121554, 2.3938439999999996, 2.4980864, 2.5086535, 2.5149306, 2.5050078, 2.5665844, 2.6329955, 2.6459632, 2.5754342, 2.5058106, 2.4349533, 2.5254341, 2.4780996, 2.471485, 2.4707537000000004, 2.4340357999999997, 2.4725745, 2.5693065, 2.4382021, 2.5338296, 2.5337497, 2.5006916, 2.4802815, 2.4388229, 2.3635525, 2.3257591], 'ROK': [1.7858532999999999, 2.0596555999999997, 2.1958981, 2.3076082, 2.3170836, 2.3970857000000003, 2.422609, 2.463026, 2.3065768, 2.3389154999999997, 2.3389466000000003, 2.3278184, 2.4154447, 2.3511325999999997, 2.316352, 2.3448244, 2.3186637, 2.306083, 2.2562871, 2.2003517, 2.2480929, 2.3287585, 2.3138775000000003, 2.271047, 2.3300335, 2.3469642, 2.3262169], 'JPN': [5.0756779000000005, 5.4351252, 5.4214541, 5.4770403000000005, 5.439933, 5.4388806, 5.2175447, 5.1150348, 4.8571788, 4.8294511, 4.9880229, 4.7059998, 4.8556753, 4.6969321, 4.4990469, 4.3271314, 4.1439977, 3.9961673, 3.9319433, 3.6056604, 3.6927231, 3.6069012999999996, 3.5483968, 3.543669, 3.3553034000000004, 3.2540492999999997, 3.2967470999999997], 'RUS': [12.953205, 10.326506, 6.725756099999999, 5.7996675, 6.705482999999999, 6.291417000000001, 5.920456000000001, 5.6003846, 5.1257394, 5.1476691, 5.1474065, 5.3511951, 4.9559519000000005, 4.9654986999999995, 4.7631226, 4.0723398, 4.1070685000000005, 4.1069247, 4.0875051000000004, 3.9313032999999997, 3.9090596, 3.9848171000000003, 3.9631136, 3.902708, 3.9191708, 3.6756865999999997, 3.6472768], 'IND': [5.990408400000001, 6.2427863, 6.346286800000001, 6.3559026, 6.3944019, 6.513400399999999, 6.6274598000000005, 6.6422015000000005, 6.769929800000001, 6.8218797, 6.8947494, 6.973803800000001, 7.2748497, 7.3222764, 7.3661216000000005, 7.5859614, 7.6072864000000004, 7.7053240999999995, 7.789981399999999, 8.0685042, 7.9316221, 8.0262847, 8.0750264, 8.1487507, 8.3619125, 8.5227132, 8.68413], 'USA': [14.125326, 13.713776999999999, 14.824486, 15.345162000000002, 14.568017, 14.037094999999999, 13.841243, 13.955292, 14.151686, 14.250799, 14.268766, 14.141168, 15.347439, 15.177245000000001, 15.14481, 15.630208000000001, 15.419258, 14.972392000000001, 14.751531000000002, 14.588451, 14.757971, 14.285889, 13.892639, 13.264198999999998, 12.940805, 13.303833000000001, 13.305758], 'CHN': [11.186033, 11.855687, 12.38409, 13.174963, 13.711502000000001, 14.29483, 14.650637999999999, 14.925395, 15.418842, 15.755569999999999, 16.233304, 16.546732, 15.354699, 16.033392, 16.80482, 17.195563, 17.945626, 18.578517, 19.062871, 20.796031, 20.924728, 21.421817, 22.032519999999998, 22.825512, 22.868057, 23.118487, 23.061772]}\n"
     ]
    }
   ],
   "source": [
    "cinc_order = ['GMY', 'BRA', 'ROK', 'JPN', 'RUS', 'IND', 'USA', 'CHN']\n",
    "\n",
    "result = {key: result[key] for key in cinc_order}\n",
    "\n",
    "print(result)"
   ]
  },
  {
   "cell_type": "markdown",
   "id": "90c7db2d",
   "metadata": {},
   "source": [
    "Extract Years as an array"
   ]
  },
  {
   "cell_type": "code",
   "execution_count": 14,
   "id": "660e371b",
   "metadata": {
    "scrolled": true
   },
   "outputs": [
    {
     "data": {
      "text/plain": [
       "array([1990, 1991, 1992, 1993, 1994, 1995, 1996, 1997, 1998, 1999, 2000,\n",
       "       2001, 2002, 2003, 2004, 2005, 2006, 2007, 2008, 2009, 2010, 2011,\n",
       "       2012, 2013, 2014, 2015, 2016], dtype=int64)"
      ]
     },
     "execution_count": 14,
     "metadata": {},
     "output_type": "execute_result"
    }
   ],
   "source": [
    "years=np.array(sorted(data['year'].unique()))\n",
    "years"
   ]
  },
  {
   "cell_type": "markdown",
   "id": "a8d1a21f",
   "metadata": {},
   "source": [
    "### Plotting the graph"
   ]
  },
  {
   "cell_type": "code",
   "execution_count": 24,
   "id": "7b56fd02",
   "metadata": {
    "scrolled": true
   },
   "outputs": [
    {
     "data": {
      "image/png": "[encoded data removed]",
      "text/plain": [
       "<Figure size 1000x500 with 1 Axes>"
      ]
     },
     "metadata": {},
     "output_type": "display_data"
    }
   ],
   "source": [
    "COLORS = [\"#3300ff\", \"#0800ff\", \"#0040ff\", \"#008cff\", \"#00c3ff\",\"#ddff00\", \"#ffb700\", \"#ff6a00\"]\n",
    "height=5\n",
    "fig, ax = plt.subplots(figsize=(height*2, height))\n",
    "ax.stackplot(years, result.values(),colors=COLORS,labels = result.keys(),baseline = \"zero\")\n",
    "ax.legend(loc='upper right', reverse=True)\n",
    "ax.set_title('World Top 8 CINC', size = 16)\n",
    "ax.set_xlabel('Year', size = 12)\n",
    "ax.set_ylabel('Percent of CINC compared to the whole world')\n",
    "plt.xlim(1990,2016);"
   ]
  },
  {
   "cell_type": "code",
   "execution_count": null,
   "id": "00af3cd9",
   "metadata": {},
   "outputs": [],
   "source": []
  }
 ],
 "metadata": {
  "kernelspec": {
   "display_name": "Python 3 (ipykernel)",
   "language": "python",
   "name": "python3"
  },
  "language_info": {
   "codemirror_mode": {
    "name": "ipython",
    "version": 3
   },
   "file_extension": ".py",
   "mimetype": "text/x-python",
   "name": "python",
   "nbconvert_exporter": "python",
   "pygments_lexer": "ipython3",
   "version": "3.11.4"
  }
 },
 "nbformat": 4,
 "nbformat_minor": 5
}
